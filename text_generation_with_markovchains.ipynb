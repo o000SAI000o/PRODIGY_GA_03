{
  "nbformat": 4,
  "nbformat_minor": 0,
  "metadata": {
    "colab": {
      "provenance": []
    },
    "kernelspec": {
      "name": "python3",
      "display_name": "Python 3"
    },
    "language_info": {
      "name": "python"
    }
  },
  "cells": [
    {
      "cell_type": "code",
      "execution_count": 5,
      "metadata": {
        "colab": {
          "base_uri": "https://localhost:8080/"
        },
        "id": "ncBM3X-JCQyo",
        "outputId": "6dac8a17-5751-47f0-8a2f-e08a6fdf445e"
      },
      "outputs": [
        {
          "output_type": "stream",
          "name": "stdout",
          "text": [
            "on the mat. The dog sat together on the log. The dog sat together on the mat. The cat sat on the mat and dog sat on the mat. The\n"
          ]
        }
      ],
      "source": [
        "import random\n",
        "from collections import defaultdict\n",
        "\n",
        "# Sample text\n",
        "text = \"\"\"\n",
        "The cat sat on the mat. The dog sat on the log. The cat and dog sat together on the mat and log.\n",
        "\"\"\"\n",
        "\n",
        "# Function to build the Markov model\n",
        "def build_markov_model(text):\n",
        "    words = text.split()\n",
        "    markov_model = defaultdict(lambda: defaultdict(int))\n",
        "\n",
        "    # Create the Markov model\n",
        "    for i in range(len(words) - 1):\n",
        "        current_word = words[i]\n",
        "        next_word = words[i + 1]\n",
        "        markov_model[current_word][next_word] += 1\n",
        "\n",
        "    return markov_model\n",
        "\n",
        "# Build the model\n",
        "markov_model = build_markov_model(text)\n",
        "\n",
        "# Function to generate text\n",
        "def generate_text(markov_model, num_words=20, seed_word=None):\n",
        "    if seed_word is None:\n",
        "        seed_word = random.choice(list(markov_model.keys()))\n",
        "\n",
        "    current_word = seed_word\n",
        "    result = [current_word]\n",
        "\n",
        "    for _ in range(num_words - 1):\n",
        "        next_words = markov_model[current_word]\n",
        "        total = sum(next_words.values())\n",
        "        r = random.randint(1, total)\n",
        "        cumulative = 0\n",
        "        for word, count in next_words.items():\n",
        "            cumulative += count\n",
        "            if r <= cumulative:\n",
        "                current_word = word\n",
        "                result.append(current_word)\n",
        "                break\n",
        "\n",
        "    return ' '.join(result)\n",
        "\n",
        "# Generate and print text\n",
        "generated_text = generate_text(markov_model, num_words=30)\n",
        "print(generated_text)\n"
      ]
    }
  ]
}